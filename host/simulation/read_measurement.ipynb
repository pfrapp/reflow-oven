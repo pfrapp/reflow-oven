{
 "cells": [
  {
   "cell_type": "markdown",
   "metadata": {},
   "source": [
    "# Read and plot a measurement\n",
    "\n",
    "Read a (controlled, that is, with active controller) measurement of an oven profile.\n"
   ]
  },
  {
   "cell_type": "code",
   "execution_count": null,
   "metadata": {},
   "outputs": [],
   "source": [
    "import numpy as np\n",
    "import matplotlib.pyplot as plt\n",
    "import pandas as pd"
   ]
  },
  {
   "cell_type": "code",
   "execution_count": null,
   "metadata": {},
   "outputs": [],
   "source": [
    "# Read a controlled measurement to assess the controller performance.\n",
    "\n",
    "# Controlled.\n",
    "path_prefix = './../../measurements/2024-12-23/'\n",
    "meas_file = 'signals_profile_controlled_second_pcb_cortex.log'\n",
    "signal_controlled = path_prefix + meas_file\n",
    "\n",
    "df = pd.read_csv(signal_controlled, skiprows=2)\n",
    "\n",
    "fig = plt.figure(1, figsize=(12, 8))\n",
    "plt.clf()\n",
    "\n",
    "ax = fig.add_subplot(1,1,1)\n",
    "ax.plot(df['Time (ms)']/1000, df['Reference temperature (C)'], '--', label='Solder profile reference')\n",
    "# ax.plot(results.t, r_input, '--', label='Reference interpolated')\n",
    "ax.plot(df['Time (ms)']/1000, df['Oven temperature (C)'],\n",
    "         linestyle='-', label='Oven temperature (C)')\n",
    "ax.plot(df['Time (ms)']/1000, df['Ambient temperature (C)'],\n",
    "         linestyle='--', label='Ambient temperature (C)')\n",
    "ax.plot(df['Time (ms)']/1000, df['PWM controller (percent)'],\n",
    "         linestyle='-', label='PWM controller (percent)')\n",
    "ax.plot(df['Time (ms)']/1000, df['Thermocouple open']*25,\n",
    "         linestyle='--', label='Thermocouple open (x25)')\n",
    "ax.plot([0,720], [217, 217], '--', label='Liquidus line')\n",
    "ax.grid(True)\n",
    "# ax.set(xlim=(550,600))\n",
    "# ax.set(ylim=(200, 250))\n",
    "ax.set(ylim=(0, 300))\n",
    "ax.set(xlabel='t (ms)')\n",
    "ax.set(title='Measured signals')\n",
    "ax.legend()\n",
    "\n",
    "plt.show()"
   ]
  },
  {
   "cell_type": "code",
   "execution_count": null,
   "metadata": {},
   "outputs": [],
   "source": [
    "theta_o = df['Oven temperature (C)']\n",
    "liquidus_temp = 217.0\n",
    "sample_time_ms = np.mean(np.diff(df['Time (ms)']))\n",
    "sample_time_seconds = sample_time_ms * 1.e-3\n",
    "sample_frequency = 1.0 / sample_time_seconds\n",
    "preheat_sample_count = np.sum([1 for idx, tau in enumerate(theta_o) if 150 <= tau <= 180.0 and idx < 570 * sample_frequency])\n",
    "reflow_sample_count = np.sum(theta_o > liquidus_temp)\n",
    "print(f'Time above 217 deg C: {reflow_sample_count / sample_frequency} seconds (with opening the door)')\n",
    "print(f'Time between 150 and 180 deg C: {preheat_sample_count / sample_frequency} seconds')\n",
    "print(f'Peak temperature: {np.max(theta_o)} deg C')"
   ]
  }
 ],
 "metadata": {
  "kernelspec": {
   "display_name": "t3es2003",
   "language": "python",
   "name": "python3"
  },
  "language_info": {
   "codemirror_mode": {
    "name": "ipython",
    "version": 3
   },
   "file_extension": ".py",
   "mimetype": "text/x-python",
   "name": "python",
   "nbconvert_exporter": "python",
   "pygments_lexer": "ipython3",
   "version": "3.10.13"
  }
 },
 "nbformat": 4,
 "nbformat_minor": 2
}
