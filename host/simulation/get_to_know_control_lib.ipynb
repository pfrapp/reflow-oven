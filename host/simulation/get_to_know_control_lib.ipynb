{
 "cells": [
  {
   "cell_type": "markdown",
   "metadata": {},
   "source": [
    "### Getting to know the nonlinear system features of the Python control systems library"
   ]
  },
  {
   "cell_type": "markdown",
   "metadata": {},
   "source": [
    "Let's see what the control system library has to offer!\n",
    "\n",
    "It seems that it can do more than I initially thought.\n",
    "\n",
    "For instance, the `forced_reponse` is in fact only usable for linear functions.\n",
    "This prevents it to be used as an excitation function for any connection of systems which at least\n",
    "one nonlinear systems.\n",
    "\n",
    "However, there is a hole bunch of functions under \"Input/Output systems\", for instance `input_output_response`.\n",
    "Together with the possibility to define arbitrary nonlinear state-space representations\n",
    "via `NonlinearIOSystem` it allows for the simulation of any connection of possibly nonlinear systems.\n"
   ]
  },
  {
   "cell_type": "code",
   "execution_count": 75,
   "metadata": {},
   "outputs": [],
   "source": [
    "import numpy as np\n",
    "import matplotlib.pyplot as plt\n",
    "import control as ctrl"
   ]
  },
  {
   "cell_type": "markdown",
   "metadata": {},
   "source": [
    "It turns out that you can access the entries of a dictionary via the `get` function.\n",
    "This allows to provide for default values."
   ]
  },
  {
   "cell_type": "code",
   "execution_count": null,
   "metadata": {},
   "outputs": [],
   "source": [
    "my_test_dict = {'hallo': 5.0}\n",
    "print(my_test_dict['hallo'])\n",
    "print(my_test_dict.get('hallo'))\n",
    "print(my_test_dict.get('gibtesnicht', 8))"
   ]
  },
  {
   "cell_type": "markdown",
   "metadata": {},
   "source": [
    "We start with a simple integrator which we transform from continous to discrete time via Euler forward.\n",
    "Then we simulate this integrator.\n",
    "\n",
    "We need to provide the udpate and the output function of a nonlinear discrte-time state space model."
   ]
  },
  {
   "cell_type": "code",
   "execution_count": null,
   "metadata": {},
   "outputs": [],
   "source": [
    "# Start with a simple integrator\n",
    "#\n",
    "# Euler forward discretization:\n",
    "# y[k+1] = y[k] + u[k] * T_d\n",
    "#\n",
    "# update function: x[k+1] = x[k] + u[k] * T_d\n",
    "# output function: y[k] = x[k]\n",
    "\n",
    "def update_fun(t, x, u, params):\n",
    "    xk = x[0]\n",
    "    uk = u[0]\n",
    "    dt = params.get('dt')\n",
    "    xkp1 = xk + uk*dt\n",
    "    return xkp1\n",
    "\n",
    "def output_fun(t, x, u, params):\n",
    "    xk = x[0]\n",
    "    yk = xk\n",
    "    return yk\n",
    "\n",
    "params = { 'dt': 0.1 }\n",
    "H_integrator = ctrl.NonlinearIOSystem(\n",
    "    update_fun,\n",
    "    output_fun,\n",
    "    inputs=['u'],\n",
    "    outputs=['y'],\n",
    "    states=1,\n",
    "    dt=params['dt'],\n",
    "    name='Integrator',\n",
    "    params=params)\n",
    "\n",
    "\n",
    "print(H_integrator)\n"
   ]
  },
  {
   "cell_type": "code",
   "execution_count": null,
   "metadata": {},
   "outputs": [],
   "source": [
    "# Define inputs\n",
    "t_input = np.arange(0.0, 10.0, params['dt'])\n",
    "# u_input = np.ones_like(t_input)\n",
    "u_input = np.cos(t_input)\n",
    "\n",
    "# Perform simulation\n",
    "results = ctrl.input_output_response(H_integrator, t_input, u_input, X0=[0.0], params=params)\n",
    "\n",
    "\n",
    "fig = plt.figure(1)\n",
    "plt.clf()\n",
    "plt.plot(t_input, u_input, label='u')\n",
    "plt.plot(results.t, results.y[0,:], label='y')\n",
    "plt.grid(True)\n",
    "plt.legend()\n",
    "plt.show()"
   ]
  },
  {
   "cell_type": "markdown",
   "metadata": {},
   "source": [
    "Next, we add a discrete-time delay which we define with a transfer function (that is, not in state space).\n"
   ]
  },
  {
   "cell_type": "code",
   "execution_count": null,
   "metadata": {},
   "outputs": [],
   "source": [
    "H_delay = ctrl.tf([1.0], [1.0, 0.0, 0.0, 0.0, 0.0, 0.0, 0.0, 0.0, 0.0, 0.0, 0.0], params['dt'])\n",
    "print(H_delay)\n",
    "\n",
    "H_delay = ctrl.ss(H_delay, name='TimeDelay')\n",
    "\n",
    "# Connect the systems\n",
    "# Note the specification of the connections:\n",
    "# - First the input, then the output (so you do describe the arrow backwards)\n",
    "# - For the integrator, we have names without [0], as we described them like\n",
    "#   that when creating the system\n",
    "# - For the time delay, we have the [0] suffix, as we created the system\n",
    "#   automatically via ctrl.ss\n",
    "# - You can use the name of the system, so signal ports across multiple\n",
    "#   systems can share the same name\n",
    "H_connected = \\\n",
    "        ctrl.interconnect([H_integrator, H_delay],\n",
    "                        connections=[['TimeDelay.u[0]', 'Integrator.y']],\n",
    "                        inplist=['Integrator.u'],\n",
    "                        outlist=['TimeDelay.y[0]'],\n",
    "                        inputs=['u_overall'],\n",
    "                        outputs=['y_overall'],\n",
    "                        dt=params['dt'])\n",
    "\n",
    "print(H_connected)"
   ]
  },
  {
   "cell_type": "code",
   "execution_count": null,
   "metadata": {},
   "outputs": [],
   "source": [
    "# Define inputs\n",
    "t_input = np.arange(0.0, 10.0, params['dt'])\n",
    "# u_input = np.ones_like(t_input)\n",
    "u_input = np.cos(t_input)\n",
    "\n",
    "\n",
    "# Perform the simulation with the integrator and the time delay\n",
    "results = ctrl.input_output_response(H_connected, t_input, u_input, X0=[0.0], params=params)\n",
    "\n",
    "\n",
    "fig = plt.figure(1)\n",
    "plt.clf()\n",
    "plt.plot(t_input, u_input, label='u')\n",
    "plt.plot(results.t, results.y[0,:], label='y')\n",
    "plt.grid(True)\n",
    "plt.legend()\n",
    "plt.show()"
   ]
  },
  {
   "cell_type": "markdown",
   "metadata": {},
   "source": [
    "Discrete-time first order lag."
   ]
  },
  {
   "cell_type": "code",
   "execution_count": 81,
   "metadata": {},
   "outputs": [],
   "source": [
    "# Define a discrete-time first-order lag system\n",
    "#\n",
    "# Original continuous time system\n",
    "# G(s) = A / (s + B)"
   ]
  },
  {
   "cell_type": "markdown",
   "metadata": {},
   "source": [
    "Discrete-time second order system.\n",
    "Let's see how we can improve from Euler forward to RK4.\n",
    "First: Euler forward."
   ]
  },
  {
   "cell_type": "code",
   "execution_count": null,
   "metadata": {},
   "outputs": [],
   "source": [
    "# Continuous-time differential equation:\n",
    "# d^2 x(t)/dt^2 + x(t) = 0\n",
    "#\n",
    "# Continuous-time state-space:\n",
    "# dx_1 / dt = x_2\n",
    "# dx_2 / dt = -x_1\n",
    "# y = x\n",
    "#\n",
    "# dx/dt = A*x\n",
    "# y = C*x\n",
    "#\n",
    "#          [  0  1 ]\n",
    "# with A = [       ]\n",
    "#          [ -1  0 ]\n",
    "#\n",
    "# and C = [ 1, 0]\n",
    "#\n",
    "#\n",
    "\n",
    "def update_fun(t, x, u, params):\n",
    "    xk = x\n",
    "    F = params['F']\n",
    "    xkp1 = np.dot(F, xk)\n",
    "    return xkp1\n",
    "\n",
    "def output_fun(t, x, u, params):\n",
    "    C = params['C']\n",
    "    return np.dot(C, x)\n",
    "\n",
    "dt = 0.1\n",
    "A = np.array([[0, 1], [-1, 0]])\n",
    "F = np.eye(2) + dt*A\n",
    "C = np.array([[1, 0]])\n",
    "\n",
    "params = { 'A': A, 'F': F, 'C': C, 'dt': dt }\n",
    "\n",
    "H_osci_euler_forward = ctrl.NonlinearIOSystem(\n",
    "    update_fun,\n",
    "    output_fun,\n",
    "    inputs=['u'],\n",
    "    outputs=['y'],\n",
    "    states=2,\n",
    "    dt=params['dt'],\n",
    "    name='Oscillator Euler forward',\n",
    "    params=params\n",
    ")\n",
    "\n",
    "t_input = np.arange(0.0, 20.0, params['dt'])\n",
    "u_input = np.zeros_like(t_input)\n",
    "\n",
    "initial_condition = np.array([1.0, 0.0])\n",
    "results = ctrl.input_output_response(H_osci_euler_forward, t_input, u_input, X0=initial_condition, params=params)\n",
    "\n",
    "fig = plt.figure(1)\n",
    "plt.clf()\n",
    "plt.plot(results.t, results.y[0,:], label='y')\n",
    "plt.grid(True)\n",
    "plt.xlabel('t')\n",
    "plt.legend()\n",
    "plt.title('Euler forward integration')\n",
    "plt.show()\n"
   ]
  },
  {
   "cell_type": "markdown",
   "metadata": {},
   "source": [
    "Next we try RK4."
   ]
  },
  {
   "cell_type": "code",
   "execution_count": null,
   "metadata": {},
   "outputs": [],
   "source": [
    "# Continuous-time differential equation:\n",
    "# d^2 x(t)/dt^2 + x(t) = 0\n",
    "#\n",
    "# Continuous-time state-space:\n",
    "# dx_1 / dt = x_2\n",
    "# dx_2 / dt = -x_1\n",
    "# y = x\n",
    "#\n",
    "# dx/dt = A*x\n",
    "# y = C*x\n",
    "#\n",
    "#          [  0  1 ]\n",
    "# with A = [       ]\n",
    "#          [ -1  0 ]\n",
    "#\n",
    "# and C = [ 1, 0]\n",
    "#\n",
    "#\n",
    "\n",
    "def update_fun(t, x, u, params):\n",
    "    xk = x\n",
    "    A = params['A']\n",
    "    dt = params['dt']\n",
    "    k1 = np.dot(A, xk)\n",
    "    k2 = np.dot(A, xk + 0.5*dt*k1)\n",
    "    k3 = np.dot(A, xk + 0.5*dt*k2)\n",
    "    k4 = np.dot(A, xk + dt*k3)\n",
    "    xkp1 = xk + dt/6.0 * (k1 + 2*k2 + 2*k3 + k4)\n",
    "    return xkp1\n",
    "\n",
    "def output_fun(t, x, u, params):\n",
    "    C = params['C']\n",
    "    return np.dot(C, x)\n",
    "\n",
    "dt = 0.1\n",
    "A = np.array([[0, 1], [-1, 0]])\n",
    "F = np.eye(2) + dt*A\n",
    "C = np.array([[1, 0]])\n",
    "\n",
    "params = { 'A': A, 'F': F, 'C': C, 'dt': dt }\n",
    "\n",
    "H_osci_rk4 = ctrl.NonlinearIOSystem(\n",
    "    update_fun,\n",
    "    output_fun,\n",
    "    inputs=['u'],\n",
    "    outputs=['y'],\n",
    "    states=2,\n",
    "    dt=params['dt'],\n",
    "    name='Oscillator Runge Kutta 4',\n",
    "    params=params\n",
    ")\n",
    "\n",
    "t_input = np.arange(0.0, 20.0, params['dt'])\n",
    "u_input = np.zeros_like(t_input)\n",
    "\n",
    "initial_condition = np.array([1.0, 0.0])\n",
    "results = ctrl.input_output_response(H_osci_rk4, t_input, u_input, X0=initial_condition, params=params)\n",
    "\n",
    "fig = plt.figure(1)\n",
    "plt.clf()\n",
    "plt.plot(results.t, results.y[0,:], label='y')\n",
    "plt.grid(True)\n",
    "plt.xlabel('t')\n",
    "plt.legend()\n",
    "plt.title('RK4 integration')\n",
    "plt.show()"
   ]
  },
  {
   "cell_type": "code",
   "execution_count": null,
   "metadata": {},
   "outputs": [],
   "source": []
  }
 ],
 "metadata": {
  "kernelspec": {
   "display_name": "t3es2003",
   "language": "python",
   "name": "python3"
  },
  "language_info": {
   "codemirror_mode": {
    "name": "ipython",
    "version": 3
   },
   "file_extension": ".py",
   "mimetype": "text/x-python",
   "name": "python",
   "nbconvert_exporter": "python",
   "pygments_lexer": "ipython3",
   "version": "3.10.13"
  }
 },
 "nbformat": 4,
 "nbformat_minor": 2
}
